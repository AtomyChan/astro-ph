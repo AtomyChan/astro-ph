{
 "cells": [
  {
   "cell_type": "code",
   "execution_count": 1,
   "metadata": {
    "scrolled": true
   },
   "outputs": [],
   "source": [
    "%matplotlib inline"
   ]
  },
  {
   "cell_type": "code",
   "execution_count": 2,
   "metadata": {},
   "outputs": [],
   "source": [
    "import os\n",
    "import copy\n",
    "import glob\n",
    "import subprocess\n",
    "\n",
    "import healpy as hp\n",
    "from astropy.io import fits\n",
    "from astropy.table import Table\n",
    "import numpy as np\n",
    "import matplotlib.pyplot as plt"
   ]
  },
  {
   "cell_type": "code",
   "execution_count": 3,
   "metadata": {},
   "outputs": [
    {
     "name": "stdout",
     "output_type": "stream",
     "text": [
      "NSIDE = 1024\n",
      "ORDERING = NESTED in fits file\n",
      "INDXSCHM = IMPLICIT\n"
     ]
    }
   ],
   "source": [
    "path = '/Users/jiaxuanli/Research/SideProjects/low-z-galaxy-survey/'\n",
    "mask = hp.read_map('s18a_fdfc_hp_contarea.fits', nest=True, dtype = np.bool)"
   ]
  },
  {
   "cell_type": "code",
   "execution_count": 4,
   "metadata": {},
   "outputs": [],
   "source": [
    "indices_map = np.where(mask)[0]\n",
    "nside = hp.get_nside(mask)"
   ]
  },
  {
   "cell_type": "code",
   "execution_count": 5,
   "metadata": {},
   "outputs": [],
   "source": [
    "os.chdir(path + 'sweep/')\n",
    "filename = glob.glob('*')\n",
    "os.chdir('..')"
   ]
  },
  {
   "cell_type": "code",
   "execution_count": 6,
   "metadata": {},
   "outputs": [
    {
     "name": "stdout",
     "output_type": "stream",
     "text": [
      "CPU times: user 4min 33s, sys: 21.5 s, total: 4min 54s\n",
      "Wall time: 4min 59s\n"
     ]
    }
   ],
   "source": [
    "%%time\n",
    "for name in filename:\n",
    "    data = Table.read('./sweep/' + name)\n",
    "    phi = np.radians(data['RA'])\n",
    "    theta = np.radians(90.0 - data['DEC'])\n",
    "    indices_obj = hp.ang2pix(nside, theta, phi, nest=True)\n",
    "    sel = np.in1d(indices_obj, indices_map)\n",
    "    data_use = data[sel]\n",
    "    if data['TYPE'].dtype.descr[0][1][1:]=='S4':\n",
    "        psf_mask = (data_use['TYPE']=='PSF ')\n",
    "        data_use = data_use[~psf_mask]\n",
    "    if data['TYPE'].dtype.descr[0][1][1:]=='S3':\n",
    "        psf_mask = (data_use['TYPE']=='PSF')\n",
    "        data_use = data_use[~psf_mask]\n",
    "    if len(data_use)!=0:\n",
    "        data_use.write('./HSCfootprint/HSC-' + name, format='fits')"
   ]
  },
  {
   "cell_type": "markdown",
   "metadata": {},
   "source": [
    "# [TOPCAT](http://www.star.bris.ac.uk/~mbt/topcat/) and [STILTS](http://www.star.bris.ac.uk/~mbt/stilts/) are required. To run these, you need to install Java. You should put `stilts.jar` under the path defined above."
   ]
  },
  {
   "cell_type": "markdown",
   "metadata": {},
   "source": [
    "## Match the sweep files with HSC catalog, with precision = 2 arcsec. Then save them to `matched` folder."
   ]
  },
  {
   "cell_type": "code",
   "execution_count": 21,
   "metadata": {},
   "outputs": [],
   "source": [
    "os.chdir(path + 'HSCfootprint/')\n",
    "footprint_filename = glob.glob('*')\n",
    "\n",
    "os.chdir('..')\n",
    "fh = open('footprint-filename.txt', 'w')\n",
    "for name in footprint_filename:\n",
    "    fh.write(path + 'HSCfootprint/' + name)\n",
    "    fh.write('\\n')\n",
    "fh.close()"
   ]
  },
  {
   "cell_type": "code",
   "execution_count": 25,
   "metadata": {},
   "outputs": [
    {
     "name": "stdout",
     "output_type": "stream",
     "text": [
      "CPU times: user 9.17 ms, sys: 80.9 ms, total: 90 ms\n",
      "Wall time: 40.7 s\n"
     ]
    }
   ],
   "source": [
    "%%time\n",
    "precision = 3 #arcsec\n",
    "\n",
    "for name in footprint_filename:\n",
    "    p = subprocess.Popen('java -jar stilts.jar tmatch2 in1=dr2_s18a_wide_specz.fits in2=./HSCfootprint/' + name + ' out=./matched/match' + str(precision) + '-' + name + ' matcher=sky values1=\"specz_ra specz_dec\" values2=\"RA DEC\" params=\"' + str(precision) + '\"'\n",
    "                         , shell = True)\n",
    "    p.wait()"
   ]
  },
  {
   "cell_type": "code",
   "execution_count": 27,
   "metadata": {},
   "outputs": [],
   "source": [
    "os.chdir(path + 'matched/')\n",
    "matched_filename = glob.glob('*')\n",
    "\n",
    "os.chdir('..')\n",
    "fh = open('matched-filename.txt', 'w')\n",
    "for name in matched_filename:\n",
    "    fh.write(path + 'matched/' + name)\n",
    "    fh.write('\\n')\n",
    "fh.close()"
   ]
  },
  {
   "cell_type": "markdown",
   "metadata": {},
   "source": [
    "## Find out those galaxies no contained in HSC catalog, and save then into `not-matched` folder."
   ]
  },
  {
   "cell_type": "code",
   "execution_count": 28,
   "metadata": {},
   "outputs": [
    {
     "name": "stdout",
     "output_type": "stream",
     "text": [
      "CPU times: user 9.49 ms, sys: 82 ms, total: 91.5 ms\n",
      "Wall time: 41.5 s\n"
     ]
    }
   ],
   "source": [
    "%%time\n",
    "precision = 3 #arcsec\n",
    "\n",
    "for name in footprint_filename:\n",
    "    p = subprocess.Popen('java -jar stilts.jar tmatch2 join=2not1 in1=dr2_s18a_wide_specz.fits in2=./HSCfootprint/'+name+' out=./not-matched/not-match'+str(precision)+'-'+name+' matcher=sky values1=\"specz_ra specz_dec\" values2=\"ra dec\" params=\"'+str(precision)+'\"', shell=True)\n",
    "    p.wait()"
   ]
  },
  {
   "cell_type": "markdown",
   "metadata": {},
   "source": [
    "## Save not-matched files' name to a `.txt` file"
   ]
  },
  {
   "cell_type": "code",
   "execution_count": 29,
   "metadata": {},
   "outputs": [],
   "source": [
    "# Generate not-matched filenames #\n",
    "os.chdir(path + 'not-matched/')\n",
    "not_matched_filename = glob.glob('*')\n",
    "os.chdir('..')\n",
    "fh = open('not-matched-filename.txt', 'w')\n",
    "for name in not_matched_filename:\n",
    "    fh.write(path + 'not-matched/' + name)\n",
    "    fh.write('\\n')\n",
    "fh.close()"
   ]
  },
  {
   "cell_type": "markdown",
   "metadata": {},
   "source": [
    "## Match these `not-matched` files with GAMA catalog"
   ]
  },
  {
   "cell_type": "code",
   "execution_count": 30,
   "metadata": {
    "scrolled": true
   },
   "outputs": [
    {
     "name": "stdout",
     "output_type": "stream",
     "text": [
      "CPU times: user 9.27 ms, sys: 84.2 ms, total: 93.4 ms\n",
      "Wall time: 24 s\n"
     ]
    }
   ],
   "source": [
    "%%time\n",
    "for name in not_matched_filename:\n",
    "    p = subprocess.Popen('java -jar stilts.jar tmatch2 in1=SpecObjv27.fits in2=./not-matched/'+name+' out=./GAMA/GAMA-match'+str(precision)+'-'+name+' matcher=sky values1=\"RA DEC\" values2=\"ra dec\" params=\"'+str(precision)+'\"', shell=True)\n",
    "    p.wait()"
   ]
  },
  {
   "cell_type": "code",
   "execution_count": 31,
   "metadata": {},
   "outputs": [],
   "source": [
    "# Generate GAMA-matched filenames #\n",
    "os.chdir(path + 'GAMA/')\n",
    "GAMA_matched_filename = glob.glob('*')\n",
    "os.chdir('..')\n",
    "fh = open('GAMA-matched-filename.txt', 'w')\n",
    "for name in GAMA_matched_filename:\n",
    "    fh.write(path + 'GAMA/' + name)\n",
    "    fh.write('\\n')\n",
    "fh.close()"
   ]
  },
  {
   "cell_type": "markdown",
   "metadata": {},
   "source": [
    "## Concatenate HSC-matched files"
   ]
  },
  {
   "cell_type": "code",
   "execution_count": 32,
   "metadata": {},
   "outputs": [
    {
     "data": {
      "text/plain": [
       "'/Users/jiaxuanli/Research/SideProjects/low-z-galaxy-survey'"
      ]
     },
     "execution_count": 32,
     "metadata": {},
     "output_type": "execute_result"
    }
   ],
   "source": [
    "os.chdir(path)\n",
    "os.getcwd()"
   ]
  },
  {
   "cell_type": "code",
   "execution_count": 34,
   "metadata": {},
   "outputs": [],
   "source": [
    "p = subprocess.Popen('java -jar stilts.jar tcat in=@matched-filename.txt out=HSC-match3-combined.fits', shell=True)"
   ]
  },
  {
   "cell_type": "markdown",
   "metadata": {},
   "source": [
    "## Concatenate GAMA-matched files"
   ]
  },
  {
   "cell_type": "code",
   "execution_count": 35,
   "metadata": {},
   "outputs": [],
   "source": [
    "os.chdir(path)\n",
    "os.getcwd()\n",
    "p = subprocess.Popen('java -jar stilts.jar tcat in=@GAMA-matched-filename.txt out=GAMA-match3-combined.fits', shell=True)"
   ]
  },
  {
   "cell_type": "markdown",
   "metadata": {},
   "source": [
    "## Concatenate DECaLS files"
   ]
  },
  {
   "cell_type": "code",
   "execution_count": 36,
   "metadata": {},
   "outputs": [],
   "source": [
    "os.chdir(path)\n",
    "os.getcwd()\n",
    "p = subprocess.Popen('java -jar stilts.jar tcat in=@footprint-filename.txt out=HSCfootprint-combined.fits', shell=True)"
   ]
  },
  {
   "cell_type": "markdown",
   "metadata": {},
   "source": [
    "## The following processes are convenient using TOPCAT instead of STILS.\n",
    "- Use `Join->Concatenate Tables` in TOPCAT, and assign `RA -> RA_2`, `DEC -> DEC_2`, then concatenate.\n",
    "- Show columns of `GAMA-match2-combined.fits`, and unselect items behind 19 (`URL_IMG`), but keep `RA_2` and `DEC_2`.\n",
    "- Then match the concatenated table with `GAMA-match2-combined.fits`, using `RA -> RA_2, DEC -> DEC_2`, select `Join type = all from 1`. \n",
    "- In the matched table, unselect column `RA_2, DEC_2, seperation, seperation_1`.\n",
    "- Save this table.\n",
    "- You get it! :)"
   ]
  },
  {
   "cell_type": "code",
   "execution_count": null,
   "metadata": {},
   "outputs": [],
   "source": []
  }
 ],
 "metadata": {
  "kernelspec": {
   "display_name": "Python 2",
   "language": "python",
   "name": "python2"
  },
  "language_info": {
   "codemirror_mode": {
    "name": "ipython",
    "version": 2
   },
   "file_extension": ".py",
   "mimetype": "text/x-python",
   "name": "python",
   "nbconvert_exporter": "python",
   "pygments_lexer": "ipython2",
   "version": "2.7.15"
  },
  "latex_envs": {
   "LaTeX_envs_menu_present": true,
   "autoclose": false,
   "autocomplete": true,
   "bibliofile": "biblio.bib",
   "cite_by": "apalike",
   "current_citInitial": 1,
   "eqLabelWithNumbers": true,
   "eqNumInitial": 1,
   "hotkeys": {
    "equation": "Ctrl-E",
    "itemize": "Ctrl-I"
   },
   "labels_anchors": false,
   "latex_user_defs": false,
   "report_style_numbering": false,
   "user_envs_cfg": false
  },
  "notify_time": "5"
 },
 "nbformat": 4,
 "nbformat_minor": 2
}
