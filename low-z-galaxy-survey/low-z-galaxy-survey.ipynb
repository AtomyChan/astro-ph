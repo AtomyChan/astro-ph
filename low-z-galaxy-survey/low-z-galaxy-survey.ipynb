{
 "cells": [
  {
   "cell_type": "code",
   "execution_count": 43,
   "metadata": {},
   "outputs": [],
   "source": [
    "import os\n",
    "import subprocess\n",
    "import time\n",
    "import glob\n",
    "from astropy.io import fits"
   ]
  },
  {
   "cell_type": "code",
   "execution_count": 2,
   "metadata": {},
   "outputs": [],
   "source": [
    "path = '/Users/jiaxuanli/Research/SideProjects/low-z-galaxy-survey/'"
   ]
  },
  {
   "cell_type": "code",
   "execution_count": 3,
   "metadata": {},
   "outputs": [],
   "source": [
    "os.chdir(path + 'sweep/')\n",
    "filename = glob.glob('*')\n",
    "os.chdir('..')"
   ]
  },
  {
   "cell_type": "code",
   "execution_count": 4,
   "metadata": {
    "scrolled": true
   },
   "outputs": [
    {
     "data": {
      "text/plain": [
       "'/Users/jiaxuanli/Research/SideProjects/low-z-galaxy-survey'"
      ]
     },
     "execution_count": 4,
     "metadata": {},
     "output_type": "execute_result"
    }
   ],
   "source": [
    "os.getcwd()"
   ]
  },
  {
   "cell_type": "markdown",
   "metadata": {},
   "source": [
    "## Match the sweep files with HSC catalog, with precision = 2 arcsec. Then save them to `matched` folder."
   ]
  },
  {
   "cell_type": "code",
   "execution_count": 6,
   "metadata": {},
   "outputs": [
    {
     "name": "stdout",
     "output_type": "stream",
     "text": [
      "Matching complete in 10m 3s\n"
     ]
    }
   ],
   "source": [
    "since = time.time()\n",
    "\n",
    "precision = 2 #arcsec\n",
    "\n",
    "for name in filename:\n",
    "    p = subprocess.Popen('java -jar stilts.jar tmatch2 in1=dr2_s18a_wide_specz.fits in2=./sweep/'+name+' out=./matched/match2-'+name+' matcher=sky values1=\"specz_ra specz_dec\" values2=\"ra dec\" params=\"'+str(precision)+'\"', shell=True)\n",
    "    p.wait()\n",
    "    \n",
    "time_elapsed = time.time() - since\n",
    "print('Matching complete in {:.0f}m {:.0f}s'.format(time_elapsed // 60, time_elapsed % 60)) # Print time  \n",
    "p.terminate()"
   ]
  },
  {
   "cell_type": "markdown",
   "metadata": {},
   "source": [
    "## Delete those empty files"
   ]
  },
  {
   "cell_type": "code",
   "execution_count": 72,
   "metadata": {},
   "outputs": [],
   "source": [
    "def file_size(file_path):\n",
    "    \"\"\"\n",
    "    this function will return the file size in KB\n",
    "    \"\"\"\n",
    "    if os.path.isfile(file_path):\n",
    "        file_info = os.stat(file_path)\n",
    "        return file_info.st_size/1024\n",
    "    \n",
    "os.chdir(path + 'matched/')\n",
    "matched_filename = glob.glob('*')\n",
    "# Lets check the file size of MS Paint exe \n",
    "# or you can use any file path\n",
    "for name in matched_filename:\n",
    "    size = file_size(name)\n",
    "    if size < 50:\n",
    "        os.remove(name)"
   ]
  },
  {
   "cell_type": "markdown",
   "metadata": {},
   "source": [
    "## Save the matched files' name to a `.txt` file"
   ]
  },
  {
   "cell_type": "code",
   "execution_count": 29,
   "metadata": {},
   "outputs": [],
   "source": [
    "os.chdir(path + 'matched/')\n",
    "matched_filename = glob.glob('*')\n",
    "\n",
    "os.chdir('..')\n",
    "fh = open('matched-filename.txt', 'w')\n",
    "for name in matched_filename:\n",
    "    fh.write(path + 'matched/' + name)\n",
    "    fh.write('\\n')\n",
    "fh.close()"
   ]
  },
  {
   "cell_type": "code",
   "execution_count": 30,
   "metadata": {},
   "outputs": [
    {
     "data": {
      "text/plain": [
       "49"
      ]
     },
     "execution_count": 30,
     "metadata": {},
     "output_type": "execute_result"
    }
   ],
   "source": [
    "len(matched_filename)"
   ]
  },
  {
   "cell_type": "markdown",
   "metadata": {},
   "source": [
    "## Find out those galaxies no contained in HSC catalog, and save then into `not-matched` folder."
   ]
  },
  {
   "cell_type": "code",
   "execution_count": 27,
   "metadata": {
    "scrolled": false
   },
   "outputs": [
    {
     "name": "stdout",
     "output_type": "stream",
     "text": [
      "Matching complete in 3m 14s\n"
     ]
    }
   ],
   "source": [
    "since = time.time()\n",
    "\n",
    "precision = 2 #arcsec\n",
    "\n",
    "for name in matched_filename:\n",
    "    p = subprocess.Popen('java -jar stilts.jar tmatch2 join=2not1 in1=dr2_s18a_wide_specz.fits in2=./sweep/'+name[7:]+' out=./not-matched/not-match2-'+name[7:]+' matcher=sky values1=\"specz_ra specz_dec\" values2=\"ra dec\" params=\"'+str(precision)+'\"', shell=True)\n",
    "    p.wait()\n",
    "    \n",
    "time_elapsed = time.time() - since\n",
    "print('Matching complete in {:.0f}m {:.0f}s'.format(time_elapsed // 60, time_elapsed % 60)) # Print time   \n",
    "p.terminate()"
   ]
  },
  {
   "cell_type": "markdown",
   "metadata": {},
   "source": [
    "## Save not-matched files' name to a `.txt` file"
   ]
  },
  {
   "cell_type": "code",
   "execution_count": 33,
   "metadata": {},
   "outputs": [],
   "source": [
    "# Generate not-matched filenames #\n",
    "os.chdir(path + 'not-matched/')\n",
    "not_matched_filename = glob.glob('*')\n",
    "os.chdir('..')\n",
    "fh = open('not-matched-filename.txt', 'w')\n",
    "for name in not_matched_filename:\n",
    "    fh.write(path + 'not-matched/' + name)\n",
    "    fh.write('\\n')\n",
    "fh.close()"
   ]
  },
  {
   "cell_type": "code",
   "execution_count": 34,
   "metadata": {},
   "outputs": [
    {
     "data": {
      "text/plain": [
       "49"
      ]
     },
     "execution_count": 34,
     "metadata": {},
     "output_type": "execute_result"
    }
   ],
   "source": [
    "len(not_matched_filename)"
   ]
  },
  {
   "cell_type": "markdown",
   "metadata": {},
   "source": [
    "## Match these `not-matched` files with GAMA catalog"
   ]
  },
  {
   "cell_type": "code",
   "execution_count": 35,
   "metadata": {},
   "outputs": [
    {
     "name": "stdout",
     "output_type": "stream",
     "text": [
      "Matching complete in 1m 7s\n"
     ]
    }
   ],
   "source": [
    "since = time.time()\n",
    "precision = 2 #arcsec\n",
    "\n",
    "for name in not_matched_filename:\n",
    "    p = subprocess.Popen('java -jar stilts.jar tmatch2 in1=SpecObjv27.fits in2=./not-matched/'+name+' out=./GAMA/GAMA-match2-'+name+' matcher=sky values1=\"RA DEC\" values2=\"ra dec\" params=\"'+str(precision)+'\"', shell=True)\n",
    "    p.wait()\n",
    "    \n",
    "time_elapsed = time.time() - since\n",
    "print('Matching complete in {:.0f}m {:.0f}s'.format(time_elapsed // 60, time_elapsed % 60)) # Print time   \n",
    "p.terminate()"
   ]
  },
  {
   "cell_type": "code",
   "execution_count": 36,
   "metadata": {},
   "outputs": [],
   "source": [
    "# Generate GAMA-matched filenames #\n",
    "os.chdir(path + 'GAMA/')\n",
    "GAMA_matched_filename = glob.glob('*')\n",
    "os.chdir('..')\n",
    "fh = open('GAMA-matched-filename.txt', 'w')\n",
    "for name in GAMA_matched_filename:\n",
    "    fh.write(path + 'GAMA/' + name)\n",
    "    fh.write('\\n')\n",
    "fh.close()"
   ]
  },
  {
   "cell_type": "markdown",
   "metadata": {},
   "source": [
    "## Concatenate HSC-matched files"
   ]
  },
  {
   "cell_type": "code",
   "execution_count": 37,
   "metadata": {},
   "outputs": [
    {
     "data": {
      "text/plain": [
       "'/Users/jiaxuanli/Research/SideProjects/low-z-galaxy-survey'"
      ]
     },
     "execution_count": 37,
     "metadata": {},
     "output_type": "execute_result"
    }
   ],
   "source": [
    "os.chdir(path)\n",
    "os.getcwd()"
   ]
  },
  {
   "cell_type": "code",
   "execution_count": 38,
   "metadata": {},
   "outputs": [],
   "source": [
    "p = subprocess.Popen('java -jar stilts.jar tcat in=@matched-filename.txt out=HSC-match2-combined.fits', shell=True)"
   ]
  },
  {
   "cell_type": "markdown",
   "metadata": {},
   "source": [
    "## Concatenate GAMA-matched files"
   ]
  },
  {
   "cell_type": "code",
   "execution_count": 39,
   "metadata": {},
   "outputs": [],
   "source": [
    "os.chdir(path)\n",
    "os.getcwd()\n",
    "p = subprocess.Popen('java -jar stilts.jar tcat in=@GAMA-matched-filename.txt out=GAMA-match2-combined.fits', shell=True)"
   ]
  },
  {
   "cell_type": "markdown",
   "metadata": {},
   "source": [
    "## The following processes are convenient using TOPCAT instead of STILS.\n",
    "- Show columns of `GAMA-match2-combined.fits`, and unselect items behind 19 (`URL_IMG`), but keep `RA_2` and `DEC_2`.\n",
    "- Use `Join->Concatenate Tables` in TOPCAT, and assign `RA -> RA_2`, `DEC -> DEC_2`, then concatenate.\n",
    "- Then match the concatenated table with `GAMA-match2-combined.fits`, but select `Join type = all from 1`. \n",
    "- In the matched table, unselect column `RA_2, DEC_2, seperation, seperation_1`.\n",
    "- Save this table.\n",
    "- You get it! :)"
   ]
  },
  {
   "cell_type": "code",
   "execution_count": null,
   "metadata": {},
   "outputs": [],
   "source": []
  }
 ],
 "metadata": {
  "kernelspec": {
   "display_name": "Python 3",
   "language": "python",
   "name": "python3"
  },
  "language_info": {
   "codemirror_mode": {
    "name": "ipython",
    "version": 3
   },
   "file_extension": ".py",
   "mimetype": "text/x-python",
   "name": "python",
   "nbconvert_exporter": "python",
   "pygments_lexer": "ipython3",
   "version": "3.7.0"
  }
 },
 "nbformat": 4,
 "nbformat_minor": 2
}
