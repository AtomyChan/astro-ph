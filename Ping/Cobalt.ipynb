{
 "cells": [
  {
   "cell_type": "markdown",
   "metadata": {},
   "source": [
    "# Collision strengths and transition probabilities for Co III forbidden lines\n",
    "\n",
    "#### -- by [Jiaxuan Li](https://astrojacobli.github.io)"
   ]
  },
  {
   "cell_type": "code",
   "execution_count": 31,
   "metadata": {},
   "outputs": [],
   "source": [
    "from __future__ import division\n",
    "import numpy as np\n",
    "import matplotlib.pyplot as plt\n",
    "from astropy.table import Table, Column, vstack\n",
    "\n",
    "plt.rc('font', size=20)\n",
    "plt.rc('text', usetex=True)"
   ]
  },
  {
   "cell_type": "code",
   "execution_count": 6,
   "metadata": {
    "scrolled": false
   },
   "outputs": [],
   "source": [
    "# Import A_ij table\n",
    "Atable = Table.read('Atable_Storey2016.txt', format='ascii.fixed_width')\n",
    "# Import energy level table\n",
    "energy_level = Table.read('energy_levels_lowest15.txt', format='ascii')\n",
    "energy_level.add_column(Column(data=energy_level['Jn'] / energy_level['Jd'], name='J', dtype='float64'))\n",
    "\n",
    "# Import Y_ij table\n",
    "Ytable = Table.read('Tave_collision_strength.txt', format='ascii')\n",
    "temp_set = np.arange(2.0, 4.6, 0.2)\n",
    "for i in range(len(temp_set)):\n",
    "    Ytable['col' + str(i + 3)].name = str(round(temp_set[i], 1))\n",
    "Ytable['col1'].name = 'i'\n",
    "Ytable['col2'].name = 'j'"
   ]
  },
  {
   "cell_type": "markdown",
   "metadata": {},
   "source": [
    "# Step by step:"
   ]
  },
  {
   "cell_type": "code",
   "execution_count": 3,
   "metadata": {},
   "outputs": [],
   "source": [
    "n_e = 1e7\n",
    "log_T = 4.0"
   ]
  },
  {
   "cell_type": "markdown",
   "metadata": {},
   "source": [
    "## The equation should be $(j>i>k)$:\n",
    "\\begin{equation}\n",
    "\\frac{\\mathrm{d}n_i}{\\mathrm{d}t} = A_{ij}n_{j} - A_{ki} n_{i} + P_{ij} n_e n_j - P_{ki} n_e n_i + Q_{ik} n_e n_k - Q_{ji} n_e n_i = 0,\n",
    "\\end{equation}\n",
    "in which $$A_{ij} = A_{j\\to i},$$ $$P_{ij} = q(j\\to i ),$$ $$Q_{ji} = q(i \\to j).$$\n",
    "\n",
    "In this notebook, the subscription of matrix follows $A_{\\rm final,\\ initial}$."
   ]
  },
  {
   "cell_type": "markdown",
   "metadata": {},
   "source": [
    "# $A_{ij} = A_{j\\to i}$"
   ]
  },
  {
   "cell_type": "code",
   "execution_count": 7,
   "metadata": {},
   "outputs": [
    {
     "data": {
      "text/plain": [
       "Text(0,0.5,'$i$')"
      ]
     },
     "execution_count": 7,
     "metadata": {},
     "output_type": "execute_result"
    },
    {
     "data": {
      "image/png": "[encoded data removed]",
      "text/plain": [
       "<Figure size 432x288 with 1 Axes>"
      ]
     },
     "metadata": {
      "needs_background": "light"
     },
     "output_type": "display_data"
    }
   ],
   "source": [
    "A_mat = np.zeros([15,15]) \n",
    "for row in Atable:\n",
    "    A_mat[row['i']-1, row['j']-1] = row['Aji']\n",
    "\n",
    "plt.imshow(A_mat)\n",
    "plt.xlabel(r'$j$')\n",
    "plt.ylabel(r'$i$')"
   ]
  },
  {
   "cell_type": "markdown",
   "metadata": {},
   "source": [
    "### $E_{ij}$"
   ]
  },
  {
   "cell_type": "code",
   "execution_count": 8,
   "metadata": {},
   "outputs": [
    {
     "data": {
      "text/plain": [
       "Text(0,0.5,'$i$')"
      ]
     },
     "execution_count": 8,
     "metadata": {},
     "output_type": "execute_result"
    },
    {
     "data": {
      "image/png": "[encoded data removed]",
      "text/plain": [
       "<Figure size 432x288 with 1 Axes>"
      ]
     },
     "metadata": {
      "needs_background": "light"
     },
     "output_type": "display_data"
    }
   ],
   "source": [
    "# E_ij: transition energy from i to j (>0 for excitation)\n",
    "E_mat = np.zeros([15, 15])\n",
    "for i in range(15):\n",
    "    for j in range(15):\n",
    "        E_mat[i, j] = energy_level[j]['Eexp'] - energy_level[i]['Eexp']\n",
    "# Now convert the unit from cm^{-1} to eV\n",
    "E_mat = 4.1357*1e-15 * 3 * 1e10 * E_mat\n",
    "plt.imshow(E_mat)\n",
    "plt.xlabel(r'$j$')\n",
    "plt.ylabel(r'$i$')"
   ]
  },
  {
   "cell_type": "markdown",
   "metadata": {},
   "source": [
    "### $Y_{ij}$"
   ]
  },
  {
   "cell_type": "code",
   "execution_count": 9,
   "metadata": {},
   "outputs": [
    {
     "data": {
      "text/plain": [
       "Text(0,0.5,'$i$')"
      ]
     },
     "execution_count": 9,
     "metadata": {},
     "output_type": "execute_result"
    },
    {
     "data": {
      "image/png": "[encoded data removed]",
      "text/plain": [
       "<Figure size 432x288 with 1 Axes>"
      ]
     },
     "metadata": {
      "needs_background": "light"
     },
     "output_type": "display_data"
    }
   ],
   "source": [
    "Y_mat = np.zeros([15,15]) \n",
    "for row in Ytable:\n",
    "    Y_mat[row['i']-1, row['j']-1] = row[str(log_T)]\n",
    "    \n",
    "plt.imshow(Y_mat)\n",
    "plt.xlabel(r'$j$')\n",
    "plt.ylabel(r'$i$')"
   ]
  },
  {
   "cell_type": "markdown",
   "metadata": {},
   "source": [
    "### $\\omega_i$"
   ]
  },
  {
   "cell_type": "code",
   "execution_count": 10,
   "metadata": {},
   "outputs": [],
   "source": [
    "omega = np.zeros(15)\n",
    "for row in energy_level:\n",
    "    omega[row['index'] - 1] = 2*row['J'] + 1"
   ]
  },
  {
   "cell_type": "markdown",
   "metadata": {},
   "source": [
    "# Now we construct the collision excitation coefficient matrix $Q$. In this matrix, $Q_{ji}$ is $q(i\\to j)$, where $i<j$. It means exciting from $i$ to $j$."
   ]
  },
  {
   "cell_type": "code",
   "execution_count": 11,
   "metadata": {},
   "outputs": [],
   "source": [
    "R = 2.1716*1e-8\n",
    "I_inf = 33.5 # eV\n",
    "k_B = 8.6173303*1e-5 # eV/Kelvin\n",
    "\n",
    "kT = k_B * 10**(log_T)\n",
    "C = R * np.sqrt(I_inf / kT)\n",
    "\n",
    "Q = np.zeros([15, 15])\n",
    "for i in range(15):\n",
    "    for j in range(15):\n",
    "        if i>= j:\n",
    "            continue\n",
    "        else:\n",
    "            Q[j, i] = C * np.exp( - E_mat[i, j] / kT  ) * Y_mat[i, j] / omega[i]"
   ]
  },
  {
   "cell_type": "code",
   "execution_count": 12,
   "metadata": {},
   "outputs": [
    {
     "data": {
      "text/plain": [
       "Text(0,0.5,'$i$')"
      ]
     },
     "execution_count": 12,
     "metadata": {},
     "output_type": "execute_result"
    },
    {
     "data": {
      "image/png": "[encoded data removed]",
      "text/plain": [
       "<Figure size 432x288 with 1 Axes>"
      ]
     },
     "metadata": {
      "needs_background": "light"
     },
     "output_type": "display_data"
    }
   ],
   "source": [
    "plt.imshow(Q)\n",
    "plt.xlabel(r'$j$')\n",
    "plt.ylabel(r'$i$')"
   ]
  },
  {
   "cell_type": "markdown",
   "metadata": {},
   "source": [
    "# Now we construct the collision de-excitation coefficient matrix $P$. In this matrix, $P_{ij}$ is $q(j\\to i)$, where $i<j$. (Downward from $j$ to $i$)."
   ]
  },
  {
   "cell_type": "code",
   "execution_count": 13,
   "metadata": {},
   "outputs": [],
   "source": [
    "P = np.zeros([15, 15])\n",
    "for i in range(15):\n",
    "    for j in range(15):\n",
    "        if i>= j:\n",
    "            continue\n",
    "        else:\n",
    "            P[i, j] = (omega[i]/ omega[j]) * np.exp( E_mat[i, j] / kT ) * Q[j, i]"
   ]
  },
  {
   "cell_type": "code",
   "execution_count": 14,
   "metadata": {},
   "outputs": [
    {
     "data": {
      "text/plain": [
       "Text(0,0.5,'$i$')"
      ]
     },
     "execution_count": 14,
     "metadata": {},
     "output_type": "execute_result"
    },
    {
     "data": {
      "image/png": "[encoded data removed]",
      "text/plain": [
       "<Figure size 432x288 with 1 Axes>"
      ]
     },
     "metadata": {
      "needs_background": "light"
     },
     "output_type": "display_data"
    }
   ],
   "source": [
    "plt.imshow(P)\n",
    "plt.xlabel(r'$j$')\n",
    "plt.ylabel(r'$i$')"
   ]
  },
  {
   "cell_type": "markdown",
   "metadata": {},
   "source": [
    "## The equation should be $(j>i)$:\n",
    "\\begin{equation}\n",
    "\\frac{\\mathrm{d}n_i}{\\mathrm{d}t} = A_{ij}n_{j} - A_{ki} n_{i} + P_{ij} n_e n_j - P_{ki} n_e n_i + Q_{ik} n_e n_k - Q_{ji} n_e n_i = 0.\n",
    "\\end{equation}\n",
    "This equation follows Einstein summing law. Change some of the $k$ into $j$, we can get:\n",
    "\\begin{equation}\n",
    "\\frac{\\mathrm{d}n_i}{\\mathrm{d}t} = \\sum_j (A_{ij} + P_{ij} n_e + Q_{ij} n_e) n_{j} = \n",
    "\\sum_j (A_{ji} + P_{ji} n_e +Q_{ji} n_e) n_i.\n",
    "\\end{equation}\n",
    "in which $$A_{ij} = A_{j\\to i},$$ $$P_{ij} = q(j\\to i ),$$ $$Q_{ji} = q(i \\to j).$$"
   ]
  },
  {
   "cell_type": "markdown",
   "metadata": {},
   "source": [
    "## Using matrix, our equation is:\n",
    "\\begin{equation}\n",
    "[(\\mathbf{A} + n_e\\mathbf{P} + n_e\\mathbf{Q})\\vec{n}]_i  - \\{\\sum_j (A_{ji} + P_{ji} n_e +Q_{ji} n_e)\\} n_i = 0\n",
    "\\end{equation}\n",
    "\n",
    "Let $\\mathbf{C} = diag\\{{\\sum_j (A_{ji} + P_{ji} n_e +Q_{ji} n_e)}\\}$ and $\\mathbf{A}+ n_e\\mathbf{P} + n_e \\mathbf{Q} = \\mathbf{B}$. Then\n",
    "$$(\\mathbf{B} - \\mathbf{C})\\vec{n} = 0$$\n",
    "is a homogeneous linear equation system."
   ]
  },
  {
   "cell_type": "code",
   "execution_count": 16,
   "metadata": {},
   "outputs": [],
   "source": [
    "C = np.diag((n_e*Q + n_e*P + A_mat).sum(axis=0))"
   ]
  },
  {
   "cell_type": "code",
   "execution_count": 17,
   "metadata": {},
   "outputs": [],
   "source": [
    "B = A_mat + n_e * P + n_e * Q"
   ]
  },
  {
   "cell_type": "code",
   "execution_count": 18,
   "metadata": {},
   "outputs": [],
   "source": [
    "def null(A, eps=1e-15):\n",
    "    u, s, vh = np.linalg.svd(A)\n",
    "    null_space = np.compress(s <= eps, vh, axis=0)\n",
    "    return null_space.T"
   ]
  },
  {
   "cell_type": "code",
   "execution_count": 19,
   "metadata": {},
   "outputs": [],
   "source": [
    "v = null(B - C) \n",
    "population = v / v[0]"
   ]
  },
  {
   "cell_type": "code",
   "execution_count": 30,
   "metadata": {},
   "outputs": [
    {
     "name": "stdout",
     "output_type": "stream",
     "text": [
      "[[1.        ]\n",
      " [0.69558263]\n",
      " [0.47295715]\n",
      " [0.29508609]\n",
      " [0.05687277]\n",
      " [0.03673786]\n",
      " [0.01784707]\n",
      " [0.04384489]\n",
      " [0.03426236]\n",
      " [0.01166833]\n",
      " [0.00555292]\n",
      " [0.02967392]\n",
      " [0.00799846]\n",
      " [0.0196831 ]\n",
      " [0.00383512]]\n"
     ]
    },
    {
     "data": {
      "text/plain": [
       "<matplotlib.legend.Legend at 0x814c08080>"
      ]
     },
     "execution_count": 30,
     "metadata": {},
     "output_type": "execute_result"
    },
    {
     "data": {
      "image/png": "[encoded data removed]",
      "text/plain": [
       "<Figure size 432x288 with 1 Axes>"
      ]
     },
     "metadata": {
      "needs_background": "light"
     },
     "output_type": "display_data"
    }
   ],
   "source": [
    "print(population)\n",
    "plt.scatter(energy_level['index'], population, marker='o', color='k',\n",
    "            label=r'$\\log n_e=' + str(np.log10(n_e)) + '$')\n",
    "plt.xlabel('energy states')\n",
    "plt.ylabel(r'$f_i$')\n",
    "plt.title('Temperature = ' + str(round(10**log_T)) )\n",
    "plt.legend()"
   ]
  },
  {
   "cell_type": "markdown",
   "metadata": {},
   "source": [
    "# Definition of $\\rho$:\n",
    "$$\\rho\\propto f_j A_{ij} |E_{ij}|$$"
   ]
  },
  {
   "cell_type": "code",
   "execution_count": 27,
   "metadata": {},
   "outputs": [],
   "source": [
    "def cal_rho(j, i):\n",
    "    return (population[j-1]  * A_mat[i-1, j-1] ) * abs(E_mat[i-1, j-1]) #+ n_e * P[i-1, j-1] * population[j-1]"
   ]
  },
  {
   "cell_type": "code",
   "execution_count": 28,
   "metadata": {},
   "outputs": [
    {
     "data": {
      "text/plain": [
       "array([2.11724911])"
      ]
     },
     "execution_count": 28,
     "metadata": {},
     "output_type": "execute_result"
    }
   ],
   "source": [
    "cal_rho(8, 1) / cal_rho(13, 2)"
   ]
  },
  {
   "cell_type": "markdown",
   "metadata": {},
   "source": [
    "---"
   ]
  },
  {
   "cell_type": "markdown",
   "metadata": {},
   "source": [
    "# Sum it up:"
   ]
  },
  {
   "cell_type": "code",
   "execution_count": 9,
   "metadata": {},
   "outputs": [],
   "source": [
    "def null(A, eps=1e-15):\n",
    "    u, s, vh = np.linalg.svd(A)\n",
    "    null_space = np.compress(s <= eps, vh, axis=0)\n",
    "    return null_space.T\n",
    "def cal_rho(j, i):\n",
    "    return (population[j-1]  * A_mat[i-1, j-1] ) * abs(E_mat[i-1, j-1]) #+ n_e * P[i-1, j-1] * population[j-1]"
   ]
  },
  {
   "cell_type": "code",
   "execution_count": 21,
   "metadata": {},
   "outputs": [],
   "source": [
    "n_e = 1e4\n",
    "log_T = 4.0"
   ]
  },
  {
   "cell_type": "code",
   "execution_count": 22,
   "metadata": {},
   "outputs": [
    {
     "data": {
      "text/plain": [
       "array([[1.00000000e+00],\n",
       "       [2.25415812e-02],\n",
       "       [1.02303119e-02],\n",
       "       [6.51722604e-03],\n",
       "       [1.75052825e-04],\n",
       "       [9.84104158e-05],\n",
       "       [3.78472113e-05],\n",
       "       [2.90731634e-05],\n",
       "       [9.31938632e-06],\n",
       "       [4.97653533e-06],\n",
       "       [1.89551669e-06],\n",
       "       [1.09348628e-04],\n",
       "       [1.61768707e-06],\n",
       "       [5.11558067e-06],\n",
       "       [2.12403343e-07]])"
      ]
     },
     "execution_count": 22,
     "metadata": {},
     "output_type": "execute_result"
    }
   ],
   "source": [
    "A_mat = np.zeros([15,15]) \n",
    "for row in Atable:\n",
    "    A_mat[row['i']-1, row['j']-1] = row['Aji']\n",
    "    \n",
    "# E_ij: transition energy from i to j (>0 for excitation)\n",
    "E_mat = np.zeros([15, 15])\n",
    "for i in range(15):\n",
    "    for j in range(15):\n",
    "        E_mat[i, j] = energy_level[j]['Eexp'] - energy_level[i]['Eexp']\n",
    "# Now convert the unit from cm^{-1} to eV\n",
    "E_mat = 4.1357*1e-15 * 3 * 1e10 * E_mat\n",
    "\n",
    "# Y\n",
    "Y_mat = np.zeros([15,15]) \n",
    "for row in Ytable:\n",
    "    Y_mat[row['i']-1, row['j']-1] = row[str(log_T)]\n",
    "#Y_mat = 26**2 * Y_mat\n",
    "# omega\n",
    "omega = np.zeros(15)\n",
    "for row in energy_level:\n",
    "    omega[row['index'] - 1] = 2*row['J'] + 1\n",
    "    \n",
    "# Q\n",
    "R = 2.1716*1e-8\n",
    "I_inf = 13.6 #33.5 # eV\n",
    "k_B = 8.6173303*1e-5 # eV/Kelvin\n",
    "\n",
    "kT = k_B * 10**(log_T)\n",
    "C = R * np.sqrt(I_inf / kT)\n",
    "\n",
    "Q = np.zeros([15, 15])\n",
    "for i in range(15):\n",
    "    for j in range(15):\n",
    "        if i>= j:\n",
    "            continue\n",
    "        else:\n",
    "            Q[j, i] = C * np.exp( - E_mat[i, j] / kT  ) * Y_mat[i, j] / omega[i]\n",
    "# P\n",
    "P = np.zeros([15, 15])\n",
    "for i in range(15):\n",
    "    for j in range(15):\n",
    "        if i>= j:\n",
    "            continue\n",
    "        else:\n",
    "            P[i, j] = (omega[i]/ omega[j]) * np.exp( E_mat[i, j] / kT ) * Q[j, i]\n",
    "            \n",
    "# Solve\n",
    "C = np.diag((n_e*Q + n_e*P + A_mat).sum(axis=0))\n",
    "B = A_mat + n_e * P + n_e * Q\n",
    "v = null(B - C) \n",
    "population = v / v[0]\n",
    "population"
   ]
  },
  {
   "cell_type": "code",
   "execution_count": 27,
   "metadata": {},
   "outputs": [
    {
     "data": {
      "text/plain": [
       "array([4.63788912])"
      ]
     },
     "execution_count": 27,
     "metadata": {},
     "output_type": "execute_result"
    }
   ],
   "source": [
    "cal_rho(2, 1) / cal_rho(3, 2) "
   ]
  },
  {
   "cell_type": "code",
   "execution_count": 28,
   "metadata": {},
   "outputs": [
    {
     "data": {
      "text/plain": [
       "4.642857142857142"
      ]
     },
     "execution_count": 28,
     "metadata": {},
     "output_type": "execute_result"
    }
   ],
   "source": [
    "5.85 / 1.26"
   ]
  },
  {
   "cell_type": "code",
   "execution_count": null,
   "metadata": {},
   "outputs": [],
   "source": []
  }
 ],
 "metadata": {
  "kernelspec": {
   "display_name": "Python 3",
   "language": "python",
   "name": "python3"
  },
  "language_info": {
   "codemirror_mode": {
    "name": "ipython",
    "version": 3
   },
   "file_extension": ".py",
   "mimetype": "text/x-python",
   "name": "python",
   "nbconvert_exporter": "python",
   "pygments_lexer": "ipython3",
   "version": "3.7.0"
  }
 },
 "nbformat": 4,
 "nbformat_minor": 2
}
