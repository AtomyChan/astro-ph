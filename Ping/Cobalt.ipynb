{
 "cells": [
  {
   "cell_type": "code",
   "execution_count": 87,
   "metadata": {},
   "outputs": [],
   "source": [
    "from __future__ import division\n",
    "import numpy as np\n",
    "import matplotlib.pyplot as plt\n",
    "from astropy.table import Table, Column, vstack\n",
    "\n",
    "plt.rc('font', size=20)\n",
    "plt.rc('text', usetex=True)"
   ]
  },
  {
   "cell_type": "code",
   "execution_count": 412,
   "metadata": {},
   "outputs": [],
   "source": [
    "n_e = 1e7\n",
    "log_T = 4.0"
   ]
  },
  {
   "cell_type": "code",
   "execution_count": 413,
   "metadata": {
    "scrolled": false
   },
   "outputs": [],
   "source": [
    "# Import A_ij table\n",
    "Atable = Table.read('Atable_Storey2016.txt', format='ascii.fixed_width')\n",
    "# Import energy level table\n",
    "energy_level = Table.read('energy_levels_lowest15.txt', format='ascii')\n",
    "energy_level.add_column(Column(data=energy_level['Jn'] / energy_level['Jd'], name='J', dtype='float64'))\n",
    "\n",
    "# Import Y_ij table\n",
    "Ytable = Table.read('Tave_collision_strength.txt', format='ascii')\n",
    "temp_set = np.arange(2.0, 4.6, 0.2)\n",
    "for i in range(len(temp_set)):\n",
    "    Ytable['col' + str(i + 3)].name = str(round(temp_set[i], 1))\n",
    "Ytable['col1'].name = 'i'\n",
    "Ytable['col2'].name = 'j'"
   ]
  },
  {
   "cell_type": "markdown",
   "metadata": {},
   "source": [
    "## The equation should be $(j>i)$:\n",
    "\\begin{equation}\n",
    "\\frac{\\mathrm{d}n_i}{\\mathrm{d}t} = A_{ij}n_{j} + P_{ij} n_e n_j - Q_{ji} n_e n_i = 0,\n",
    "\\end{equation}\n",
    "in which $$A_{ij} = A_{j\\to i},$$ $$P_{ij} = q(j\\to i ),$$ $$Q_{ji} = q(i \\to j).$$"
   ]
  },
  {
   "cell_type": "markdown",
   "metadata": {},
   "source": [
    "# $A_{ij}$ is $A_{j\\to i}$"
   ]
  },
  {
   "cell_type": "code",
   "execution_count": 414,
   "metadata": {},
   "outputs": [
    {
     "data": {
      "text/plain": [
       "Text(0,0.5,'$i$')"
      ]
     },
     "execution_count": 414,
     "metadata": {},
     "output_type": "execute_result"
    },
    {
     "data": {
      "image/png": "[encoded data removed]",
      "text/plain": [
       "<Figure size 432x288 with 1 Axes>"
      ]
     },
     "metadata": {
      "needs_background": "light"
     },
     "output_type": "display_data"
    }
   ],
   "source": [
    "A_mat = np.zeros([15,15]) \n",
    "for row in Atable:\n",
    "    A_mat[row['i']-1, row['j']-1] = row['Aji']\n",
    "\n",
    "plt.imshow(A_mat)\n",
    "plt.xlabel(r'$j$')\n",
    "plt.ylabel(r'$i$')"
   ]
  },
  {
   "cell_type": "markdown",
   "metadata": {},
   "source": [
    "### $E_{ij}$"
   ]
  },
  {
   "cell_type": "code",
   "execution_count": 415,
   "metadata": {},
   "outputs": [
    {
     "data": {
      "text/plain": [
       "Text(0,0.5,'$i$')"
      ]
     },
     "execution_count": 415,
     "metadata": {},
     "output_type": "execute_result"
    },
    {
     "data": {
      "image/png": "[encoded data removed]",
      "text/plain": [
       "<Figure size 432x288 with 1 Axes>"
      ]
     },
     "metadata": {
      "needs_background": "light"
     },
     "output_type": "display_data"
    }
   ],
   "source": [
    "# E_ij: transition energy from i to j (>0 for excitation)\n",
    "E_mat = np.zeros([15, 15])\n",
    "for i in range(15):\n",
    "    for j in range(15):\n",
    "        E_mat[i, j] = energy_level[j]['Eexp'] - energy_level[i]['Eexp']\n",
    "# Now convert the unit from cm^{-1} to eV\n",
    "E_mat = 4.1357*1e-15 * 3 * 1e10 * E_mat\n",
    "plt.imshow(E_mat)\n",
    "plt.xlabel(r'$j$')\n",
    "plt.ylabel(r'$i$')"
   ]
  },
  {
   "cell_type": "markdown",
   "metadata": {},
   "source": [
    "### $Y_{ij}$"
   ]
  },
  {
   "cell_type": "code",
   "execution_count": 417,
   "metadata": {},
   "outputs": [
    {
     "data": {
      "text/plain": [
       "Text(0,0.5,'$i$')"
      ]
     },
     "execution_count": 417,
     "metadata": {},
     "output_type": "execute_result"
    },
    {
     "data": {
      "image/png": "[encoded data removed]",
      "text/plain": [
       "<Figure size 432x288 with 1 Axes>"
      ]
     },
     "metadata": {
      "needs_background": "light"
     },
     "output_type": "display_data"
    }
   ],
   "source": [
    "Y_mat = np.zeros([15,15]) \n",
    "for row in Ytable:\n",
    "    Y_mat[row['i']-1, row['j']-1] = row[str(log_T)]\n",
    "    \n",
    "Y_mat = 26**2 * Y_mat\n",
    "plt.imshow(Y_mat)\n",
    "plt.xlabel(r'$j$')\n",
    "plt.ylabel(r'$i$')"
   ]
  },
  {
   "cell_type": "markdown",
   "metadata": {},
   "source": [
    "### $\\omega_i$"
   ]
  },
  {
   "cell_type": "code",
   "execution_count": 418,
   "metadata": {},
   "outputs": [],
   "source": [
    "omega = np.zeros(15)\n",
    "for row in energy_level:\n",
    "    omega[row['index'] - 1] = 2*row['J'] + 1"
   ]
  },
  {
   "cell_type": "markdown",
   "metadata": {},
   "source": [
    "# Now we construct the collision excitation coefficient matrix $Q$. In this matrix, $Q_{ji}$ is $q(i\\to j)$, where $i<j$. Excite from $i$ to $j$"
   ]
  },
  {
   "cell_type": "code",
   "execution_count": 419,
   "metadata": {},
   "outputs": [],
   "source": [
    "R = 2.1716*1e-8\n",
    "I_inf = 33.5 # eV\n",
    "k_B = 8.6173303*1e-5 # eV/Kelvin\n",
    "\n",
    "kT = k_B * 10**(log_T)\n",
    "C = R * np.sqrt(I_inf / kT)\n",
    "\n",
    "Q = np.zeros([15, 15])\n",
    "for i in range(15):\n",
    "    for j in range(15):\n",
    "        if i>= j:\n",
    "            continue\n",
    "        else:\n",
    "            Q[j, i] = C * np.exp( - E_mat[i, j] / kT  ) * Y_mat[i, j] / omega[i]"
   ]
  },
  {
   "cell_type": "code",
   "execution_count": 420,
   "metadata": {},
   "outputs": [
    {
     "data": {
      "text/plain": [
       "Text(0,0.5,'$i$')"
      ]
     },
     "execution_count": 420,
     "metadata": {},
     "output_type": "execute_result"
    },
    {
     "data": {
      "image/png": "[encoded data removed]",
      "text/plain": [
       "<Figure size 432x288 with 1 Axes>"
      ]
     },
     "metadata": {
      "needs_background": "light"
     },
     "output_type": "display_data"
    }
   ],
   "source": [
    "plt.imshow(Q)\n",
    "plt.xlabel(r'$j$')\n",
    "plt.ylabel(r'$i$')"
   ]
  },
  {
   "cell_type": "markdown",
   "metadata": {},
   "source": [
    "# Now we construct the collision de-excitation coefficient matrix $P$. In this matrix, $P_{ij}$ is $q(j\\to i)$, where $i<j$. Downward from $j$ to $i$."
   ]
  },
  {
   "cell_type": "code",
   "execution_count": 421,
   "metadata": {},
   "outputs": [],
   "source": [
    "P = np.zeros([15, 15])\n",
    "for i in range(15):\n",
    "    for j in range(15):\n",
    "        if i>= j:\n",
    "            continue\n",
    "        else:\n",
    "            P[i, j] = (omega[i]/ omega[j]) * np.exp( E_mat[i, j] / kT ) * Q[j, i]"
   ]
  },
  {
   "cell_type": "code",
   "execution_count": 422,
   "metadata": {},
   "outputs": [
    {
     "data": {
      "text/plain": [
       "Text(0,0.5,'$i$')"
      ]
     },
     "execution_count": 422,
     "metadata": {},
     "output_type": "execute_result"
    },
    {
     "data": {
      "image/png": "[encoded data removed]",
      "text/plain": [
       "<Figure size 432x288 with 1 Axes>"
      ]
     },
     "metadata": {
      "needs_background": "light"
     },
     "output_type": "display_data"
    }
   ],
   "source": [
    "plt.imshow(P)\n",
    "plt.xlabel(r'$j$')\n",
    "plt.ylabel(r'$i$')"
   ]
  },
  {
   "cell_type": "markdown",
   "metadata": {},
   "source": [
    "## The equation should be $(j>i)$:\n",
    "\\begin{equation}\n",
    "\\frac{\\mathrm{d}n_i}{\\mathrm{d}t} = \\sum_j (A_{ij} + P_{ij} n_e) n_{j} - \\sum_j Q_{ji} n_e n_i = 0,\n",
    "\\end{equation}\n",
    "in which $$A_{ij} = A_{j\\to i},$$ $$P_{ij} = q(j\\to i ),$$ $$Q_{ji} = q(i \\to j).$$"
   ]
  },
  {
   "cell_type": "markdown",
   "metadata": {},
   "source": [
    "## Now our equation is:\n",
    "\\begin{equation}\n",
    "[(\\mathbf{A} + n_e\\mathbf{P})\\vec{n}]_i  - (\\sum_j Q_{ji} n_e) n_i = 0\n",
    "\\end{equation}\n",
    "\n",
    "Let $\\mathbf{C} = diag\\{{n_e\\sum_j Q_{ji}}\\}$ and $\\mathbf{A}+ n_e\\mathbf{P} = \\mathbf{B}$. Then\n",
    "$$(\\mathbf{B} - \\mathbf{C})\\vec{n} = 0$$"
   ]
  },
  {
   "cell_type": "code",
   "execution_count": 423,
   "metadata": {},
   "outputs": [],
   "source": [
    "C = n_e * np.diag(Q.sum(axis=0))"
   ]
  },
  {
   "cell_type": "code",
   "execution_count": 424,
   "metadata": {},
   "outputs": [],
   "source": [
    "B = A_mat + n_e * P"
   ]
  },
  {
   "cell_type": "code",
   "execution_count": 425,
   "metadata": {},
   "outputs": [
    {
     "data": {
      "text/plain": [
       "Text(0,0.5,'$i$')"
      ]
     },
     "execution_count": 425,
     "metadata": {},
     "output_type": "execute_result"
    },
    {
     "data": {
      "image/png": "[encoded data removed]",
      "text/plain": [
       "<Figure size 432x288 with 2 Axes>"
      ]
     },
     "metadata": {
      "needs_background": "light"
     },
     "output_type": "display_data"
    }
   ],
   "source": [
    "plt.imshow(n_e * P + A_mat)\n",
    "plt.colorbar()\n",
    "plt.xlabel(r'$j$')\n",
    "plt.ylabel(r'$i$')"
   ]
  },
  {
   "cell_type": "code",
   "execution_count": 426,
   "metadata": {},
   "outputs": [],
   "source": [
    "def null(A, eps=1e-15):\n",
    "    u, s, vh = np.linalg.svd(A)\n",
    "    null_space = np.compress(s <= eps, vh, axis=0)\n",
    "    return null_space.T"
   ]
  },
  {
   "cell_type": "code",
   "execution_count": 427,
   "metadata": {},
   "outputs": [],
   "source": [
    "v = null(n_e * P + A_mat - C) \n",
    "population = v / v[0]"
   ]
  },
  {
   "cell_type": "code",
   "execution_count": 428,
   "metadata": {},
   "outputs": [
    {
     "data": {
      "text/plain": [
       "array([[1.        ],\n",
       "       [0.70874234],\n",
       "       [0.48683044],\n",
       "       [0.30566799],\n",
       "       [0.06721188],\n",
       "       [0.04337226],\n",
       "       [0.02052835],\n",
       "       [0.08670698],\n",
       "       [0.06191469],\n",
       "       [0.02182621],\n",
       "       [0.00983053],\n",
       "       [0.04550327],\n",
       "       [0.02166952],\n",
       "       [0.03421352],\n",
       "       [0.01219121]])"
      ]
     },
     "execution_count": 428,
     "metadata": {},
     "output_type": "execute_result"
    }
   ],
   "source": [
    "population"
   ]
  },
  {
   "cell_type": "code",
   "execution_count": 429,
   "metadata": {},
   "outputs": [
    {
     "data": {
      "text/plain": [
       "<matplotlib.collections.PathCollection at 0x11b7736d0>"
      ]
     },
     "execution_count": 429,
     "metadata": {},
     "output_type": "execute_result"
    },
    {
     "data": {
      "image/png": "[encoded data removed]",
      "text/plain": [
       "<Figure size 432x288 with 1 Axes>"
      ]
     },
     "metadata": {
      "needs_background": "light"
     },
     "output_type": "display_data"
    }
   ],
   "source": [
    "plt.scatter(energy_level['index'], population)"
   ]
  },
  {
   "cell_type": "markdown",
   "metadata": {},
   "source": [
    "# Definition of $\\rho$:\n",
    "$$\\rho\\propto f_j A_{ij} |E_{ij}|$$"
   ]
  },
  {
   "cell_type": "code",
   "execution_count": 433,
   "metadata": {},
   "outputs": [],
   "source": [
    "def cal_rho(j, i):\n",
    "    return (population[j-1]  * A_mat[i-1, j-1] + n_e * P[i-1, j-1] * population[j-1] ) * abs(E_mat[i-1, j-1])"
   ]
  },
  {
   "cell_type": "code",
   "execution_count": 434,
   "metadata": {},
   "outputs": [
    {
     "data": {
      "text/plain": [
       "array([5.59070782])"
      ]
     },
     "execution_count": 434,
     "metadata": {},
     "output_type": "execute_result"
    }
   ],
   "source": [
    "cal_rho(8, 1) / cal_rho(13, 2)"
   ]
  },
  {
   "cell_type": "code",
   "execution_count": null,
   "metadata": {},
   "outputs": [],
   "source": []
  },
  {
   "cell_type": "code",
   "execution_count": null,
   "metadata": {},
   "outputs": [],
   "source": []
  },
  {
   "cell_type": "code",
   "execution_count": null,
   "metadata": {},
   "outputs": [],
   "source": []
  },
  {
   "cell_type": "code",
   "execution_count": null,
   "metadata": {},
   "outputs": [],
   "source": []
  },
  {
   "cell_type": "markdown",
   "metadata": {},
   "source": [
    "# Sum it up:"
   ]
  },
  {
   "cell_type": "code",
   "execution_count": 436,
   "metadata": {},
   "outputs": [],
   "source": [
    "n_e = 1e4\n",
    "log_T = 4.0"
   ]
  },
  {
   "cell_type": "code",
   "execution_count": 437,
   "metadata": {},
   "outputs": [],
   "source": [
    "def null(A, eps=1e-15):\n",
    "    u, s, vh = np.linalg.svd(A)\n",
    "    null_space = np.compress(s <= eps, vh, axis=0)\n",
    "    return null_space.T\n",
    "def cal_rho(j, i):\n",
    "    return (population[j-1]  * A_mat[i-1, j-1] + n_e * P[i-1, j-1] * population[j-1] ) * abs(E_mat[i-1, j-1])"
   ]
  },
  {
   "cell_type": "code",
   "execution_count": 442,
   "metadata": {},
   "outputs": [],
   "source": [
    "A_mat = np.zeros([15,15]) \n",
    "for row in Atable:\n",
    "    A_mat[row['i']-1, row['j']-1] = row['Aji']\n",
    "    \n",
    "# E_ij: transition energy from i to j (>0 for excitation)\n",
    "E_mat = np.zeros([15, 15])\n",
    "for i in range(15):\n",
    "    for j in range(15):\n",
    "        E_mat[i, j] = energy_level[j]['Eexp'] - energy_level[i]['Eexp']\n",
    "# Now convert the unit from cm^{-1} to eV\n",
    "E_mat = 4.1357*1e-15 * 3 * 1e10 * E_mat\n",
    "\n",
    "# Y\n",
    "Y_mat = np.zeros([15,15]) \n",
    "for row in Ytable:\n",
    "    Y_mat[row['i']-1, row['j']-1] = row[str(log_T)]\n",
    "Y_mat = 26**2 * Y_mat\n",
    "# omega\n",
    "omega = np.zeros(15)\n",
    "for row in energy_level:\n",
    "    omega[row['index'] - 1] = 2*row['J'] + 1\n",
    "    \n",
    "# Q\n",
    "R = 2.1716*1e-8\n",
    "I_inf = 33.5 # eV\n",
    "k_B = 8.6173303*1e-5 # eV/Kelvin\n",
    "\n",
    "kT = k_B * 10**(log_T)\n",
    "C = R * np.sqrt(I_inf / kT)\n",
    "\n",
    "Q = np.zeros([15, 15])\n",
    "for i in range(15):\n",
    "    for j in range(15):\n",
    "        if i>= j:\n",
    "            continue\n",
    "        else:\n",
    "            Q[j, i] = C * np.exp( - E_mat[i, j] / kT  ) * Y_mat[i, j] / omega[i]\n",
    "# P\n",
    "P = np.zeros([15, 15])\n",
    "for i in range(15):\n",
    "    for j in range(15):\n",
    "        if i>= j:\n",
    "            continue\n",
    "        else:\n",
    "            P[i, j] = (omega[i]/ omega[j]) * np.exp( E_mat[i, j] / kT ) * Q[j, i]\n",
    "            \n",
    "# Solve\n",
    "C = n_e * np.diag(Q.sum(axis=0))\n",
    "v = null(n_e * P + A_mat - C) \n",
    "population = v / v[0]"
   ]
  },
  {
   "cell_type": "code",
   "execution_count": 443,
   "metadata": {},
   "outputs": [
    {
     "data": {
      "text/plain": [
       "array([[1.00000000e+00],\n",
       "       [3.66845672e-02],\n",
       "       [1.83392331e-03],\n",
       "       [1.74466265e-04],\n",
       "       [1.52039657e-06],\n",
       "       [1.64560230e-06],\n",
       "       [1.61381554e-07],\n",
       "       [1.00579649e-08],\n",
       "       [5.18599443e-10],\n",
       "       [9.88550795e-10],\n",
       "       [1.41476238e-11],\n",
       "       [1.36125080e-11],\n",
       "       [1.84119500e-11],\n",
       "       [3.54965494e-13],\n",
       "       [1.26479243e-13]])"
      ]
     },
     "execution_count": 443,
     "metadata": {},
     "output_type": "execute_result"
    }
   ],
   "source": [
    "population"
   ]
  },
  {
   "cell_type": "code",
   "execution_count": 444,
   "metadata": {},
   "outputs": [
    {
     "data": {
      "text/plain": [
       "array([33614.46036065])"
      ]
     },
     "execution_count": 444,
     "metadata": {},
     "output_type": "execute_result"
    }
   ],
   "source": [
    "cal_rho(2, 1) / cal_rho(8, 2) # should be 3.29"
   ]
  },
  {
   "cell_type": "code",
   "execution_count": null,
   "metadata": {},
   "outputs": [],
   "source": []
  },
  {
   "cell_type": "code",
   "execution_count": null,
   "metadata": {},
   "outputs": [],
   "source": []
  }
 ],
 "metadata": {
  "kernelspec": {
   "display_name": "Python 2",
   "language": "python",
   "name": "python2"
  },
  "language_info": {
   "codemirror_mode": {
    "name": "ipython",
    "version": 2
   },
   "file_extension": ".py",
   "mimetype": "text/x-python",
   "name": "python",
   "nbconvert_exporter": "python",
   "pygments_lexer": "ipython2",
   "version": "2.7.15"
  }
 },
 "nbformat": 4,
 "nbformat_minor": 2
}
